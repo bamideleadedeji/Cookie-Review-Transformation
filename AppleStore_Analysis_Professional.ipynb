{
 "cells": [
  {
   "cell_type": "markdown",
   "metadata": {},
   "source": [
    "# Apple Store Apps Analysis\n",
    "\n",
    "## Introduction\n",
    "Welcome! This portfolio project analyzes Apple Store app data to uncover insights about app ratings, pricing, and genre trends. The analysis demonstrates end-to-end data science skills: data cleaning, exploratory analysis, visualization, and storytelling. Key business takeaways are highlighted for potential employers."
   ]
  },
  {
   "cell_type": "markdown",
   "metadata": {},
   "source": [
    "## Data Loading\n",
    "\n",
    "We load the dataset directly from the repository. Make sure `Applestore.csv` is present in your project directory."
   ]
  },
  {
   "cell_type": "code",
   "metadata": {},
   "source": [
    "import pandas as pd\n",
    "import numpy as np\n",
    "import matplotlib.pyplot as plt\n",
    "import seaborn as sns\n",
    "sns.set(style=\"whitegrid\")\n",
    "\n",
    "# Load data using repo-relative path\n",
    "data = pd.read_csv('Applestore.csv')\n",
    "data.head()"
   ]
  },
  {
   "cell_type": "markdown",
   "metadata": {},
   "source": [
    "## Data Overview & Cleaning\n",
    "\n",
    "Let's inspect the structure and cleanliness of the data."
   ]
  },
  {
   "cell_type": "code",
   "metadata": {},
   "source": [
    "# Basic info\n",
    "print(f\"Rows: {data.shape[0]}, Columns: {data.shape[1]}\")\n",
    "data.info()"
   ]
  },
  {
   "cell_type": "code",
   "metadata": {},
   "source": [
    "# Check for missing values\n",
    "missing = data.isnull().sum()\n",
    "print('Missing values per column:')\n",
    "print(missing)\n",
    "assert missing.sum() == 0, \"Dataset contains missing values!\""
   ]
  },
  {
   "cell_type": "markdown",
   "metadata": {},
   "source": [
    "No missing values detected. The dataset is ready for analysis."
   ]
  },
  {
   "cell_type": "code",
   "metadata": {},
   "source": [
    "# Unique values per column\n",
    "data.nunique()"
   ]
  },
  {
   "cell_type": "markdown",
   "metadata": {},
   "source": [
    "## Exploratory Data Analysis (EDA)\n",
    "\n",
    "Let's explore key features and trends using summary statistics and visualizations."
   ]
  },
  {
   "cell_type": "code",
   "metadata": {},
   "source": [
    "# Summary statistics\n",
    "data.describe(include='all')"
   ]
  },
  {
   "cell_type": "markdown",
   "metadata": {},
   "source": [
    "### Distribution of App Ratings"
   ]
  },
  {
   "cell_type": "code",
   "metadata": {},
   "source": [
    "plt.figure(figsize=(10, 5))\n",
    "sns.histplot(data['user_rating'], bins=30, kde=True, color='royalblue')\n",
    "plt.title('Distribution of User Ratings')\n",
    "plt.xlabel('User Rating')\n",
    "plt.ylabel('Frequency')\n",
    "plt.show()"
   ]
  },
  {
   "cell_type": "markdown",
   "metadata": {},
   "source": [
    "*Interpretation:* Most apps have user ratings between 3.5 and 5.0, indicating generally positive user experiences."
   ]
  },
  {
   "cell_type": "markdown",
   "metadata": {},
   "source": [
    "### Average Rating by Genre"
   ]
  },
  {
   "cell_type": "code",
   "metadata": {},
   "source": [
    "avg_rating_by_genre = data.groupby('prime_genre')['user_rating'].mean().sort_values(ascending=False)\n",
    "plt.figure(figsize=(12,6))\n",
    "avg_rating_by_genre.plot(kind='bar', color='teal')\n",
    "plt.title('Average User Rating by App Genre')\n",
    "plt.xlabel('Genre')\n",
    "plt.ylabel('Average Rating')\n",
    "plt.xticks(rotation=45, ha='right')\n",
    "plt.show()"
   ]
  },
  {
   "cell_type": "markdown",
   "metadata": {},
   "source": [
    "*Insight:* Productivity and Music genres have the highest average ratings. Utility and Entertainment genres are also well-received."
   ]
  },
  {
   "cell_type": "markdown",
   "metadata": {},
   "source": [
    "### Top 10 Highest-Rated Apps"
   ]
  },
  {
   "cell_type": "code",
   "metadata": {},
   "source": [
    "top_rated = data.nlargest(10, 'user_rating')[['track_name', 'user_rating']]\n",
    "top_rated"
   ]
  },
  {
   "cell_type": "markdown",
   "metadata": {},
   "source": [
    "*Observation:* These apps achieved perfect ratings, reflecting excellent user satisfaction."
   ]
  },
  {
   "cell_type": "markdown",
   "metadata": {},
   "source": [
    "### Apps with the Most Ratings"
   ]
  },
  {
   "cell_type": "code",
   "metadata": {},
   "source": [
    "most_rated_apps = data.nlargest(10, 'rating_count_tot')[['track_name', 'rating_count_tot']]\n",
    "most_rated_apps"
   ]
  },
  {
   "cell_type": "markdown",
   "metadata": {},
   "source": [
    "*Insight:* Social and gaming apps dominate the most-rated list, indicating their massive popularity."
   ]
  },
  {
   "cell_type": "markdown",
   "metadata": {},
   "source": [
    "### Average Price by Genre"
   ]
  },
  {
   "cell_type": "code",
   "metadata": {},
   "source": [
    "avg_price_by_genre = data.groupby('prime_genre')['price'].mean().sort_values(ascending=False)\n",
    "plt.figure(figsize=(12,6))\n",
    "avg_price_by_genre.plot(kind='bar', color='salmon')\n",
    "plt.title('Average Price by App Genre')\n",
    "plt.xlabel('Genre')\n",
    "plt.ylabel('Average Price (USD)')\n",
    "plt.xticks(rotation=45, ha='right')\n",
    "plt.show()"
   ]
  },
  {
   "cell_type": "markdown",
   "metadata": {},
   "source": [
    "*Observation:* Medical and Business apps tend to be more expensive, while Social Networking and Shopping apps are usually free."
   ]
  },
  {
   "cell_type": "markdown",
   "metadata": {},
   "source": [
    "### Distribution of Content Ratings"
   ]
  },
  {
   "cell_type": "code",
   "metadata": {},
   "source": [
    "plt.figure(figsize=(8,5))\n",
    "sns.countplot(x='cont_rating', data=data, order=data['cont_rating'].value_counts().index, palette='viridis')\n",
    "plt.title('Distribution of Content Ratings')\n",
    "plt.xlabel('Content Rating')\n",
    "plt.ylabel('Number of Apps')\n",
    "plt.show()"
   ]
  },
  {
   "cell_type": "markdown",
   "metadata": {},
   "source": [
    "*Observation:* Most apps are rated 4+, suitable for general audiences."
   ]
  },
  {
   "cell_type": "markdown",
   "metadata": {},
   "source": [
    "### Average Rating by Content Rating"
   ]
  },
  {
   "cell_type": "code",
   "metadata": {},
   "source": [
    "avg_rating_by_content = data.groupby('cont_rating')['user_rating'].mean().sort_values(ascending=False)\n",
    "avg_rating_by_content"
   ]
  },
  {
   "cell_type": "markdown",
   "metadata": {},
   "source": [
    "*Insight:* Apps rated 9+ and 4+ tend to have the best user ratings, suggesting suitability for younger users may correlate with higher satisfaction."
   ]
  },
  {
   "cell_type": "markdown",
   "metadata": {},
   "source": [
    "## Key Insights & Conclusions\n",
    "\n",
    "- The majority of apps are free, but paid apps in Medical and Business genres tend to be more expensive.\n",
    "- Productivity and Music apps achieve the highest user satisfaction.\n",
    "- Social and gaming apps are the most popular by rating count.\n",
    "- The app ecosystem is family-friendly, with most apps rated 4+.\n",
    "\n",
    "### Business Recommendations\n",
    "- Focus on user experience for Productivity and Music apps to maintain high ratings.\n",
    "- Free apps drive volume; consider freemium models for popularity-heavy genres.\n",
    "- Target family-friendly content for broad reach."
   ]
  },
  {
   "cell_type": "markdown",
   "metadata": {},
   "source": [
    "## About the Author\n",
    "This analysis was performed by [bamideleadedeji](https://github.com/bamideleadedeji) as part of a professional data science portfolio."
   ]
  }
 ],
 "metadata": {
  "kernelspec": {
   "display_name": "Python 3",
   "language": "python",
   "name": "python3"
  },
  "language_info": {
   "name": "python"
  }
 },
 "nbformat": 4,
 "nbformat_minor": 5
}
