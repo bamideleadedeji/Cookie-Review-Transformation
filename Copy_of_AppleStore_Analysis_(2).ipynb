{
  "cells": [
    {
      "cell_type": "code",
      "execution_count": null,
      "id": "2200fc7d",
      "metadata": {
        "id": "2200fc7d"
      },
      "outputs": [],
      "source": [
        "import pandas as pd\n",
        "import numpy as np\n",
        "import matplotlib.pyplot as plt\n",
        "import seaborn as sns"
      ]
    },
    {
      "cell_type": "code",
      "execution_count": null,
      "id": "574fec1c",
      "metadata": {
        "id": "574fec1c",
        "outputId": "611d13b4-fbd1-476f-dd1e-2109aa6063ca"
      },
      "outputs": [
        {
          "data": {
            "text/html": [
              "<div>\n",
              "<style scoped>\n",
              "    .dataframe tbody tr th:only-of-type {\n",
              "        vertical-align: middle;\n",
              "    }\n",
              "\n",
              "    .dataframe tbody tr th {\n",
              "        vertical-align: top;\n",
              "    }\n",
              "\n",
              "    .dataframe thead th {\n",
              "        text-align: right;\n",
              "    }\n",
              "</style>\n",
              "<table border=\"1\" class=\"dataframe\">\n",
              "  <thead>\n",
              "    <tr style=\"text-align: right;\">\n",
              "      <th></th>\n",
              "      <th>Unnamed: 0</th>\n",
              "      <th>id</th>\n",
              "      <th>track_name</th>\n",
              "      <th>size_bytes</th>\n",
              "      <th>currency</th>\n",
              "      <th>price</th>\n",
              "      <th>rating_count_tot</th>\n",
              "      <th>rating_count_ver</th>\n",
              "      <th>user_rating</th>\n",
              "      <th>user_rating_ver</th>\n",
              "      <th>ver</th>\n",
              "      <th>cont_rating</th>\n",
              "      <th>prime_genre</th>\n",
              "      <th>sup_devices.num</th>\n",
              "      <th>ipadSc_urls.num</th>\n",
              "      <th>lang.num</th>\n",
              "      <th>vpp_lic</th>\n",
              "    </tr>\n",
              "  </thead>\n",
              "  <tbody>\n",
              "    <tr>\n",
              "      <th>0</th>\n",
              "      <td>1</td>\n",
              "      <td>281656475</td>\n",
              "      <td>PAC-MAN Premium</td>\n",
              "      <td>100788224</td>\n",
              "      <td>USD</td>\n",
              "      <td>3.99</td>\n",
              "      <td>21292</td>\n",
              "      <td>26</td>\n",
              "      <td>4.0</td>\n",
              "      <td>4.5</td>\n",
              "      <td>6.3.5</td>\n",
              "      <td>4+</td>\n",
              "      <td>Games</td>\n",
              "      <td>38</td>\n",
              "      <td>5</td>\n",
              "      <td>10</td>\n",
              "      <td>1</td>\n",
              "    </tr>\n",
              "    <tr>\n",
              "      <th>1</th>\n",
              "      <td>2</td>\n",
              "      <td>281796108</td>\n",
              "      <td>Evernote - stay organized</td>\n",
              "      <td>158578688</td>\n",
              "      <td>USD</td>\n",
              "      <td>0.00</td>\n",
              "      <td>161065</td>\n",
              "      <td>26</td>\n",
              "      <td>4.0</td>\n",
              "      <td>3.5</td>\n",
              "      <td>8.2.2</td>\n",
              "      <td>4+</td>\n",
              "      <td>Productivity</td>\n",
              "      <td>37</td>\n",
              "      <td>5</td>\n",
              "      <td>23</td>\n",
              "      <td>1</td>\n",
              "    </tr>\n",
              "    <tr>\n",
              "      <th>2</th>\n",
              "      <td>3</td>\n",
              "      <td>281940292</td>\n",
              "      <td>WeatherBug - Local Weather, Radar, Maps, Alerts</td>\n",
              "      <td>100524032</td>\n",
              "      <td>USD</td>\n",
              "      <td>0.00</td>\n",
              "      <td>188583</td>\n",
              "      <td>2822</td>\n",
              "      <td>3.5</td>\n",
              "      <td>4.5</td>\n",
              "      <td>5.0.0</td>\n",
              "      <td>4+</td>\n",
              "      <td>Weather</td>\n",
              "      <td>37</td>\n",
              "      <td>5</td>\n",
              "      <td>3</td>\n",
              "      <td>1</td>\n",
              "    </tr>\n",
              "    <tr>\n",
              "      <th>3</th>\n",
              "      <td>4</td>\n",
              "      <td>282614216</td>\n",
              "      <td>eBay: Best App to Buy, Sell, Save! Online Shop...</td>\n",
              "      <td>128512000</td>\n",
              "      <td>USD</td>\n",
              "      <td>0.00</td>\n",
              "      <td>262241</td>\n",
              "      <td>649</td>\n",
              "      <td>4.0</td>\n",
              "      <td>4.5</td>\n",
              "      <td>5.10.0</td>\n",
              "      <td>12+</td>\n",
              "      <td>Shopping</td>\n",
              "      <td>37</td>\n",
              "      <td>5</td>\n",
              "      <td>9</td>\n",
              "      <td>1</td>\n",
              "    </tr>\n",
              "    <tr>\n",
              "      <th>4</th>\n",
              "      <td>5</td>\n",
              "      <td>282935706</td>\n",
              "      <td>Bible</td>\n",
              "      <td>92774400</td>\n",
              "      <td>USD</td>\n",
              "      <td>0.00</td>\n",
              "      <td>985920</td>\n",
              "      <td>5320</td>\n",
              "      <td>4.5</td>\n",
              "      <td>5.0</td>\n",
              "      <td>7.5.1</td>\n",
              "      <td>4+</td>\n",
              "      <td>Reference</td>\n",
              "      <td>37</td>\n",
              "      <td>5</td>\n",
              "      <td>45</td>\n",
              "      <td>1</td>\n",
              "    </tr>\n",
              "  </tbody>\n",
              "</table>\n",
              "</div>"
            ],
            "text/plain": [
              "   Unnamed: 0         id                                         track_name  \\\n",
              "0           1  281656475                                    PAC-MAN Premium   \n",
              "1           2  281796108                          Evernote - stay organized   \n",
              "2           3  281940292    WeatherBug - Local Weather, Radar, Maps, Alerts   \n",
              "3           4  282614216  eBay: Best App to Buy, Sell, Save! Online Shop...   \n",
              "4           5  282935706                                              Bible   \n",
              "\n",
              "   size_bytes currency  price  rating_count_tot  rating_count_ver  \\\n",
              "0   100788224      USD   3.99             21292                26   \n",
              "1   158578688      USD   0.00            161065                26   \n",
              "2   100524032      USD   0.00            188583              2822   \n",
              "3   128512000      USD   0.00            262241               649   \n",
              "4    92774400      USD   0.00            985920              5320   \n",
              "\n",
              "   user_rating  user_rating_ver     ver cont_rating   prime_genre  \\\n",
              "0          4.0              4.5   6.3.5          4+         Games   \n",
              "1          4.0              3.5   8.2.2          4+  Productivity   \n",
              "2          3.5              4.5   5.0.0          4+       Weather   \n",
              "3          4.0              4.5  5.10.0         12+      Shopping   \n",
              "4          4.5              5.0   7.5.1          4+     Reference   \n",
              "\n",
              "   sup_devices.num  ipadSc_urls.num  lang.num  vpp_lic  \n",
              "0               38                5        10        1  \n",
              "1               37                5        23        1  \n",
              "2               37                5         3        1  \n",
              "3               37                5         9        1  \n",
              "4               37                5        45        1  "
            ]
          },
          "execution_count": 3,
          "metadata": {},
          "output_type": "execute_result"
        }
      ],
      "source": [
        "data = pd.read_csv(\"C:/Users/HP USER/Desktop/Applestore.csv\")\n",
        "data.head()"
      ]
    },
    {
      "cell_type": "code",
      "execution_count": null,
      "id": "17f24e13",
      "metadata": {
        "id": "17f24e13",
        "outputId": "19a9d734-c708-4cb2-afbe-5274b1b58c2f"
      },
      "outputs": [
        {
          "data": {
            "text/plain": [
              "(7197, 17)"
            ]
          },
          "execution_count": 4,
          "metadata": {},
          "output_type": "execute_result"
        }
      ],
      "source": [
        "# Check the number of rows and columns present in the data using the shape attribute\n",
        "data.shape"
      ]
    },
    {
      "cell_type": "code",
      "execution_count": null,
      "id": "a9619587",
      "metadata": {
        "id": "a9619587",
        "outputId": "249e4f6a-f997-4e7f-9ba2-80701d39beec"
      },
      "outputs": [
        {
          "name": "stdout",
          "output_type": "stream",
          "text": [
            "<class 'pandas.core.frame.DataFrame'>\n",
            "RangeIndex: 7197 entries, 0 to 7196\n",
            "Data columns (total 17 columns):\n",
            " #   Column            Non-Null Count  Dtype  \n",
            "---  ------            --------------  -----  \n",
            " 0   Unnamed: 0        7197 non-null   int64  \n",
            " 1   id                7197 non-null   int64  \n",
            " 2   track_name        7197 non-null   object \n",
            " 3   size_bytes        7197 non-null   int64  \n",
            " 4   currency          7197 non-null   object \n",
            " 5   price             7197 non-null   float64\n",
            " 6   rating_count_tot  7197 non-null   int64  \n",
            " 7   rating_count_ver  7197 non-null   int64  \n",
            " 8   user_rating       7197 non-null   float64\n",
            " 9   user_rating_ver   7197 non-null   float64\n",
            " 10  ver               7197 non-null   object \n",
            " 11  cont_rating       7197 non-null   object \n",
            " 12  prime_genre       7197 non-null   object \n",
            " 13  sup_devices.num   7197 non-null   int64  \n",
            " 14  ipadSc_urls.num   7197 non-null   int64  \n",
            " 15  lang.num          7197 non-null   int64  \n",
            " 16  vpp_lic           7197 non-null   int64  \n",
            "dtypes: float64(3), int64(9), object(5)\n",
            "memory usage: 956.0+ KB\n"
          ]
        }
      ],
      "source": [
        "# Display basic information about the dataset\n",
        "data.info()"
      ]
    },
    {
      "cell_type": "code",
      "execution_count": null,
      "id": "85456898",
      "metadata": {
        "scrolled": true,
        "id": "85456898",
        "outputId": "0300e608-0ed3-420c-b8ee-13d355c5ecbd"
      },
      "outputs": [
        {
          "data": {
            "text/html": [
              "<div>\n",
              "<style scoped>\n",
              "    .dataframe tbody tr th:only-of-type {\n",
              "        vertical-align: middle;\n",
              "    }\n",
              "\n",
              "    .dataframe tbody tr th {\n",
              "        vertical-align: top;\n",
              "    }\n",
              "\n",
              "    .dataframe thead th {\n",
              "        text-align: right;\n",
              "    }\n",
              "</style>\n",
              "<table border=\"1\" class=\"dataframe\">\n",
              "  <thead>\n",
              "    <tr style=\"text-align: right;\">\n",
              "      <th></th>\n",
              "      <th>Unnamed: 0</th>\n",
              "      <th>id</th>\n",
              "      <th>size_bytes</th>\n",
              "      <th>price</th>\n",
              "      <th>rating_count_tot</th>\n",
              "      <th>rating_count_ver</th>\n",
              "      <th>user_rating</th>\n",
              "      <th>user_rating_ver</th>\n",
              "      <th>sup_devices.num</th>\n",
              "      <th>ipadSc_urls.num</th>\n",
              "      <th>lang.num</th>\n",
              "      <th>vpp_lic</th>\n",
              "    </tr>\n",
              "  </thead>\n",
              "  <tbody>\n",
              "    <tr>\n",
              "      <th>count</th>\n",
              "      <td>7197.000000</td>\n",
              "      <td>7.197000e+03</td>\n",
              "      <td>7.197000e+03</td>\n",
              "      <td>7197.000000</td>\n",
              "      <td>7.197000e+03</td>\n",
              "      <td>7197.000000</td>\n",
              "      <td>7197.000000</td>\n",
              "      <td>7197.000000</td>\n",
              "      <td>7197.000000</td>\n",
              "      <td>7197.000000</td>\n",
              "      <td>7197.000000</td>\n",
              "      <td>7197.000000</td>\n",
              "    </tr>\n",
              "    <tr>\n",
              "      <th>mean</th>\n",
              "      <td>4759.069612</td>\n",
              "      <td>8.631310e+08</td>\n",
              "      <td>1.991345e+08</td>\n",
              "      <td>1.726218</td>\n",
              "      <td>1.289291e+04</td>\n",
              "      <td>460.373906</td>\n",
              "      <td>3.526956</td>\n",
              "      <td>3.253578</td>\n",
              "      <td>37.361817</td>\n",
              "      <td>3.707100</td>\n",
              "      <td>5.434903</td>\n",
              "      <td>0.993053</td>\n",
              "    </tr>\n",
              "    <tr>\n",
              "      <th>std</th>\n",
              "      <td>3093.625213</td>\n",
              "      <td>2.712368e+08</td>\n",
              "      <td>3.592069e+08</td>\n",
              "      <td>5.833006</td>\n",
              "      <td>7.573941e+04</td>\n",
              "      <td>3920.455183</td>\n",
              "      <td>1.517948</td>\n",
              "      <td>1.809363</td>\n",
              "      <td>3.737715</td>\n",
              "      <td>1.986005</td>\n",
              "      <td>7.919593</td>\n",
              "      <td>0.083066</td>\n",
              "    </tr>\n",
              "    <tr>\n",
              "      <th>min</th>\n",
              "      <td>1.000000</td>\n",
              "      <td>2.816565e+08</td>\n",
              "      <td>5.898240e+05</td>\n",
              "      <td>0.000000</td>\n",
              "      <td>0.000000e+00</td>\n",
              "      <td>0.000000</td>\n",
              "      <td>0.000000</td>\n",
              "      <td>0.000000</td>\n",
              "      <td>9.000000</td>\n",
              "      <td>0.000000</td>\n",
              "      <td>0.000000</td>\n",
              "      <td>0.000000</td>\n",
              "    </tr>\n",
              "    <tr>\n",
              "      <th>25%</th>\n",
              "      <td>2090.000000</td>\n",
              "      <td>6.000937e+08</td>\n",
              "      <td>4.692275e+07</td>\n",
              "      <td>0.000000</td>\n",
              "      <td>2.800000e+01</td>\n",
              "      <td>1.000000</td>\n",
              "      <td>3.500000</td>\n",
              "      <td>2.500000</td>\n",
              "      <td>37.000000</td>\n",
              "      <td>3.000000</td>\n",
              "      <td>1.000000</td>\n",
              "      <td>1.000000</td>\n",
              "    </tr>\n",
              "    <tr>\n",
              "      <th>50%</th>\n",
              "      <td>4380.000000</td>\n",
              "      <td>9.781482e+08</td>\n",
              "      <td>9.715302e+07</td>\n",
              "      <td>0.000000</td>\n",
              "      <td>3.000000e+02</td>\n",
              "      <td>23.000000</td>\n",
              "      <td>4.000000</td>\n",
              "      <td>4.000000</td>\n",
              "      <td>37.000000</td>\n",
              "      <td>5.000000</td>\n",
              "      <td>1.000000</td>\n",
              "      <td>1.000000</td>\n",
              "    </tr>\n",
              "    <tr>\n",
              "      <th>75%</th>\n",
              "      <td>7223.000000</td>\n",
              "      <td>1.082310e+09</td>\n",
              "      <td>1.819249e+08</td>\n",
              "      <td>1.990000</td>\n",
              "      <td>2.793000e+03</td>\n",
              "      <td>140.000000</td>\n",
              "      <td>4.500000</td>\n",
              "      <td>4.500000</td>\n",
              "      <td>38.000000</td>\n",
              "      <td>5.000000</td>\n",
              "      <td>8.000000</td>\n",
              "      <td>1.000000</td>\n",
              "    </tr>\n",
              "    <tr>\n",
              "      <th>max</th>\n",
              "      <td>11097.000000</td>\n",
              "      <td>1.188376e+09</td>\n",
              "      <td>4.025970e+09</td>\n",
              "      <td>299.990000</td>\n",
              "      <td>2.974676e+06</td>\n",
              "      <td>177050.000000</td>\n",
              "      <td>5.000000</td>\n",
              "      <td>5.000000</td>\n",
              "      <td>47.000000</td>\n",
              "      <td>5.000000</td>\n",
              "      <td>75.000000</td>\n",
              "      <td>1.000000</td>\n",
              "    </tr>\n",
              "  </tbody>\n",
              "</table>\n",
              "</div>"
            ],
            "text/plain": [
              "         Unnamed: 0            id    size_bytes        price  \\\n",
              "count   7197.000000  7.197000e+03  7.197000e+03  7197.000000   \n",
              "mean    4759.069612  8.631310e+08  1.991345e+08     1.726218   \n",
              "std     3093.625213  2.712368e+08  3.592069e+08     5.833006   \n",
              "min        1.000000  2.816565e+08  5.898240e+05     0.000000   \n",
              "25%     2090.000000  6.000937e+08  4.692275e+07     0.000000   \n",
              "50%     4380.000000  9.781482e+08  9.715302e+07     0.000000   \n",
              "75%     7223.000000  1.082310e+09  1.819249e+08     1.990000   \n",
              "max    11097.000000  1.188376e+09  4.025970e+09   299.990000   \n",
              "\n",
              "       rating_count_tot  rating_count_ver  user_rating  user_rating_ver  \\\n",
              "count      7.197000e+03       7197.000000  7197.000000      7197.000000   \n",
              "mean       1.289291e+04        460.373906     3.526956         3.253578   \n",
              "std        7.573941e+04       3920.455183     1.517948         1.809363   \n",
              "min        0.000000e+00          0.000000     0.000000         0.000000   \n",
              "25%        2.800000e+01          1.000000     3.500000         2.500000   \n",
              "50%        3.000000e+02         23.000000     4.000000         4.000000   \n",
              "75%        2.793000e+03        140.000000     4.500000         4.500000   \n",
              "max        2.974676e+06     177050.000000     5.000000         5.000000   \n",
              "\n",
              "       sup_devices.num  ipadSc_urls.num     lang.num      vpp_lic  \n",
              "count      7197.000000      7197.000000  7197.000000  7197.000000  \n",
              "mean         37.361817         3.707100     5.434903     0.993053  \n",
              "std           3.737715         1.986005     7.919593     0.083066  \n",
              "min           9.000000         0.000000     0.000000     0.000000  \n",
              "25%          37.000000         3.000000     1.000000     1.000000  \n",
              "50%          37.000000         5.000000     1.000000     1.000000  \n",
              "75%          38.000000         5.000000     8.000000     1.000000  \n",
              "max          47.000000         5.000000    75.000000     1.000000  "
            ]
          },
          "execution_count": 6,
          "metadata": {},
          "output_type": "execute_result"
        }
      ],
      "source": [
        "# Summary statistics\n",
        "data.describe()"
      ]
    },
    {
      "cell_type": "code",
      "execution_count": null,
      "id": "1de79d81",
      "metadata": {
        "id": "1de79d81"
      },
      "outputs": [],
      "source": [
        "# stastical summary of the above data: Count, this is the number of not empty values\n",
        "# Mean-the average values,Min-shows¶the minium value.\n",
        "# Percentile show.s how many of the values are less than the given percentile: 25%, 50%,\n",
        "# 75%, and 100%.\n",
        "# The Max depicted the maximum value."
      ]
    },
    {
      "cell_type": "code",
      "execution_count": null,
      "id": "20265fee",
      "metadata": {
        "id": "20265fee",
        "outputId": "1d7ec875-dbd7-410a-bdf5-593330067c55"
      },
      "outputs": [
        {
          "data": {
            "text/plain": [
              "Unnamed: 0          0\n",
              "id                  0\n",
              "track_name          0\n",
              "size_bytes          0\n",
              "currency            0\n",
              "price               0\n",
              "rating_count_tot    0\n",
              "rating_count_ver    0\n",
              "user_rating         0\n",
              "user_rating_ver     0\n",
              "ver                 0\n",
              "cont_rating         0\n",
              "prime_genre         0\n",
              "sup_devices.num     0\n",
              "ipadSc_urls.num     0\n",
              "lang.num            0\n",
              "vpp_lic             0\n",
              "dtype: int64"
            ]
          },
          "execution_count": 8,
          "metadata": {},
          "output_type": "execute_result"
        }
      ],
      "source": [
        "# Check for missing values\n",
        "data.isnull().sum()"
      ]
    },
    {
      "cell_type": "code",
      "execution_count": null,
      "id": "1598bfb1",
      "metadata": {
        "id": "1598bfb1",
        "outputId": "67ffdfa3-d71a-4bb5-ef89-d6fa8c9f21a3"
      },
      "outputs": [
        {
          "data": {
            "text/plain": [
              "Unnamed: 0          0\n",
              "id                  0\n",
              "track_name          0\n",
              "size_bytes          0\n",
              "currency            0\n",
              "price               0\n",
              "rating_count_tot    0\n",
              "rating_count_ver    0\n",
              "user_rating         0\n",
              "user_rating_ver     0\n",
              "ver                 0\n",
              "cont_rating         0\n",
              "prime_genre         0\n",
              "sup_devices.num     0\n",
              "ipadSc_urls.num     0\n",
              "lang.num            0\n",
              "vpp_lic             0\n",
              "dtype: int64"
            ]
          },
          "execution_count": 9,
          "metadata": {},
          "output_type": "execute_result"
        }
      ],
      "source": [
        "data.isna().sum()"
      ]
    },
    {
      "cell_type": "code",
      "execution_count": null,
      "id": "d1a61c42",
      "metadata": {
        "id": "d1a61c42"
      },
      "outputs": [],
      "source": [
        "# There are no null values and not any number in the dataset.No missing data."
      ]
    },
    {
      "cell_type": "code",
      "execution_count": null,
      "id": "e7eb29b5",
      "metadata": {
        "id": "e7eb29b5"
      },
      "outputs": [],
      "source": [
        "# The info() function is used to print a concise summary of a DataFrame,\n",
        "# such as the index dtype and column dtypes, non-null values and memory usage.\n",
        "# This method observe the data type of each feature."
      ]
    },
    {
      "cell_type": "code",
      "execution_count": null,
      "id": "1d734983",
      "metadata": {
        "scrolled": false,
        "id": "1d734983",
        "outputId": "44bad575-c5fc-48d8-91ec-b52ec4608a0d"
      },
      "outputs": [
        {
          "name": "stdout",
          "output_type": "stream",
          "text": [
            "<class 'pandas.core.frame.DataFrame'>\n",
            "RangeIndex: 7197 entries, 0 to 7196\n",
            "Data columns (total 17 columns):\n",
            " #   Column            Non-Null Count  Dtype  \n",
            "---  ------            --------------  -----  \n",
            " 0   Unnamed: 0        7197 non-null   int64  \n",
            " 1   id                7197 non-null   int64  \n",
            " 2   track_name        7197 non-null   object \n",
            " 3   size_bytes        7197 non-null   int64  \n",
            " 4   currency          7197 non-null   object \n",
            " 5   price             7197 non-null   float64\n",
            " 6   rating_count_tot  7197 non-null   int64  \n",
            " 7   rating_count_ver  7197 non-null   int64  \n",
            " 8   user_rating       7197 non-null   float64\n",
            " 9   user_rating_ver   7197 non-null   float64\n",
            " 10  ver               7197 non-null   object \n",
            " 11  cont_rating       7197 non-null   object \n",
            " 12  prime_genre       7197 non-null   object \n",
            " 13  sup_devices.num   7197 non-null   int64  \n",
            " 14  ipadSc_urls.num   7197 non-null   int64  \n",
            " 15  lang.num          7197 non-null   int64  \n",
            " 16  vpp_lic           7197 non-null   int64  \n",
            "dtypes: float64(3), int64(9), object(5)\n",
            "memory usage: 956.0+ KB\n"
          ]
        }
      ],
      "source": [
        "data.info()"
      ]
    },
    {
      "cell_type": "code",
      "execution_count": null,
      "id": "462dbc95",
      "metadata": {
        "id": "462dbc95"
      },
      "outputs": [],
      "source": [
        "# Underatanding the diversity of values in a dataset or a specific column"
      ]
    },
    {
      "cell_type": "code",
      "execution_count": null,
      "id": "609ffdb0",
      "metadata": {
        "id": "609ffdb0",
        "outputId": "20cc0022-a71e-4c88-cda3-05e2ae0e6ccb"
      },
      "outputs": [
        {
          "data": {
            "text/plain": [
              "Unnamed: 0          7197\n",
              "id                  7197\n",
              "track_name          7195\n",
              "size_bytes          7107\n",
              "currency               1\n",
              "price                 36\n",
              "rating_count_tot    3185\n",
              "rating_count_ver    1138\n",
              "user_rating           10\n",
              "user_rating_ver       10\n",
              "ver                 1590\n",
              "cont_rating            4\n",
              "prime_genre           23\n",
              "sup_devices.num       20\n",
              "ipadSc_urls.num        6\n",
              "lang.num              57\n",
              "vpp_lic                2\n",
              "dtype: int64"
            ]
          },
          "execution_count": 14,
          "metadata": {},
          "output_type": "execute_result"
        }
      ],
      "source": [
        "data.nunique()"
      ]
    },
    {
      "cell_type": "code",
      "execution_count": null,
      "id": "de80b154",
      "metadata": {
        "id": "de80b154"
      },
      "outputs": [],
      "source": [
        "# Currency, count_rating, ipadSc_urls.num, and vpp_lic are unique value or specific columns."
      ]
    },
    {
      "cell_type": "code",
      "execution_count": null,
      "id": "56c8b1fe",
      "metadata": {
        "id": "56c8b1fe",
        "outputId": "3339f1ee-07fb-4e8c-c818-099bd843ebdf"
      },
      "outputs": [
        {
          "data": {
            "image/png": "[encoded data removed]",
            "text/plain": [
              "<Figure size 1000x600 with 1 Axes>"
            ]
          },
          "metadata": {},
          "output_type": "display_data"
        }
      ],
      "source": [
        "# Data Exploration and Visulization.\n",
        "# Distribution of app ratings\n",
        "plt.figure(figsize=(10, 6))\n",
        "sns.histplot(data['user_rating'], bins=30, kde=True)\n",
        "plt.title('Distribution of App Ratings')\n",
        "plt.xlabel('User Rating')\n",
        "plt.ylabel('Frequency')\n",
        "plt.show()"
      ]
    },
    {
      "cell_type": "code",
      "execution_count": null,
      "id": "36f1725d",
      "metadata": {
        "id": "36f1725d",
        "outputId": "11f36a98-01c1-4f8a-d7fc-172bb41defa1"
      },
      "outputs": [
        {
          "name": "stdout",
          "output_type": "stream",
          "text": [
            "Average Rating by Genre:\n",
            " prime_genre\n",
            "Book                 2.477679\n",
            "Business             3.745614\n",
            "Catalogs             2.100000\n",
            "Education            3.376380\n",
            "Entertainment        3.246729\n",
            "Finance              2.432692\n",
            "Food & Drink         3.182540\n",
            "Games                3.685008\n",
            "Health & Fitness     3.700000\n",
            "Lifestyle            2.805556\n",
            "Medical              3.369565\n",
            "Music                3.978261\n",
            "Navigation           2.684783\n",
            "News                 2.980000\n",
            "Photo & Video        3.800860\n",
            "Productivity         4.005618\n",
            "Reference            3.453125\n",
            "Shopping             3.540984\n",
            "Social Networking    2.985030\n",
            "Sports               2.982456\n",
            "Travel               3.376543\n",
            "Utilities            3.278226\n",
            "Weather              3.597222\n",
            "Name: user_rating, dtype: float64\n"
          ]
        }
      ],
      "source": [
        "# Average Rating by genre.\n",
        "avg_rating_by_genre = data.groupby('prime_genre')['user_rating'].mean()\n",
        "print(\"Average Rating by Genre:\\n\", avg_rating_by_genre)"
      ]
    },
    {
      "cell_type": "code",
      "execution_count": null,
      "id": "f0dca1c6",
      "metadata": {
        "id": "f0dca1c6",
        "outputId": "8c386c3c-6366-4c29-ab28-7c6db7a1392a"
      },
      "outputs": [
        {
          "name": "stdout",
          "output_type": "stream",
          "text": [
            "Top 10 Highest-Rated Apps:\n",
            "                                             track_name  user_rating\n",
            "21                                         :) Sudoku +          5.0\n",
            "230                                King of Dragon Pass          5.0\n",
            "271  TurboScan™ Pro - document & receipt scanner: s...          5.0\n",
            "302                                 Plants vs. Zombies          5.0\n",
            "318        Learn to Speak Spanish Fast With MosaLingua          5.0\n",
            "350                              Plants vs. Zombies HD          5.0\n",
            "383                       The Photographer's Ephemeris          5.0\n",
            "410                                          ▻Sudoku +          5.0\n",
            "467                                       Flashlight Ⓞ          5.0\n",
            "498                                     Infinity Blade          5.0\n"
          ]
        }
      ],
      "source": [
        "# Top 10 highest-rated apps\n",
        "top_rated_apps = data.nlargest(10, 'user_rating')[['track_name', 'user_rating']]\n",
        "print(\"Top 10 Highest-Rated Apps:\\n\", top_rated_apps)"
      ]
    },
    {
      "cell_type": "code",
      "execution_count": null,
      "id": "77a53e63",
      "metadata": {
        "id": "77a53e63",
        "outputId": "a9a6f3fd-029b-4025-a5f9-3d91ab534d83"
      },
      "outputs": [
        {
          "name": "stdout",
          "output_type": "stream",
          "text": [
            "Apps with the Most Ratings:\n",
            "                    track_name  rating_count_tot\n",
            "16                   Facebook           2974676\n",
            "519                 Instagram           2161558\n",
            "1346           Clash of Clans           2130805\n",
            "707                Temple Run           1724546\n",
            "7     Pandora - Music & Radio           1126879\n",
            "755                 Pinterest           1061624\n",
            "4                       Bible            985920\n",
            "1493         Candy Crush Saga            961794\n",
            "178             Spotify Music            878563\n",
            "275               Angry Birds            824451\n"
          ]
        }
      ],
      "source": [
        "  # Analyze Apps with the Most Ratings\n",
        "most_rated_apps = data.nlargest(10, 'rating_count_tot')[['track_name',\n",
        "                                                                   'rating_count_tot']]\n",
        "print(\"Apps with the Most Ratings:\\n\", most_rated_apps)"
      ]
    },
    {
      "cell_type": "code",
      "execution_count": null,
      "id": "2560009e",
      "metadata": {
        "id": "2560009e",
        "outputId": "c117c919-e7a5-439d-9b69-d7f131c9867e"
      },
      "outputs": [
        {
          "name": "stdout",
          "output_type": "stream",
          "text": [
            "Average Price by Genre:\n",
            " prime_genre\n",
            "Book                 1.790536\n",
            "Business             5.116316\n",
            "Catalogs             0.799000\n",
            "Education            4.028234\n",
            "Entertainment        0.889701\n",
            "Finance              0.421154\n",
            "Food & Drink         1.552381\n",
            "Games                1.432923\n",
            "Health & Fitness     1.916444\n",
            "Lifestyle            0.885417\n",
            "Medical              8.776087\n",
            "Music                4.835435\n",
            "Navigation           4.124783\n",
            "News                 0.517733\n",
            "Photo & Video        1.473295\n",
            "Productivity         4.330562\n",
            "Reference            4.836875\n",
            "Shopping             0.016311\n",
            "Social Networking    0.339880\n",
            "Sports               0.953070\n",
            "Travel               1.120370\n",
            "Utilities            1.647621\n",
            "Weather              1.605417\n",
            "Name: price, dtype: float64\n"
          ]
        }
      ],
      "source": [
        "# Average Price by Genre\n",
        "avg_price_by_genre = data.groupby('prime_genre')['price'].mean()\n",
        "print(\"Average Price by Genre:\\n\", avg_price_by_genre)"
      ]
    },
    {
      "cell_type": "code",
      "execution_count": null,
      "id": "eb5d56f8",
      "metadata": {
        "id": "eb5d56f8",
        "outputId": "d3c9af9f-88ae-4499-dda4-b4c18aad8b03"
      },
      "outputs": [
        {
          "data": {
            "image/png": "[encoded data removed]",
            "text/plain": [
              "<Figure size 1000x600 with 1 Axes>"
            ]
          },
          "metadata": {},
          "output_type": "display_data"
        }
      ],
      "source": [
        "# Distribution of Content Ratings\n",
        "plt.figure(figsize=(10, 6))\n",
        "sns.countplot(x='cont_rating', data = data, order = data['cont_rating'].\n",
        "              value_counts().index)\n",
        "plt.title('Distribution of Content Ratings')\n",
        "plt.xlabel('Content Rating')\n",
        "plt.ylabel('Frequency')\n",
        "plt.show()"
      ]
    },
    {
      "cell_type": "code",
      "execution_count": null,
      "id": "e2cc0f86",
      "metadata": {
        "id": "e2cc0f86"
      },
      "outputs": [],
      "source": [
        "# The 4+ content rating has the highest follwed by 12+..... and the lowest is 17+."
      ]
    },
    {
      "cell_type": "code",
      "execution_count": null,
      "id": "5366ab6a",
      "metadata": {
        "id": "5366ab6a",
        "outputId": "92de87b2-9f77-4325-c744-00fdb23ec07d"
      },
      "outputs": [
        {
          "name": "stdout",
          "output_type": "stream",
          "text": [
            "Average Rating by Content Rating:\n",
            " cont_rating\n",
            "12+    3.566667\n",
            "17+    2.760450\n",
            "4+     3.570156\n",
            "9+     3.769504\n",
            "Name: user_rating, dtype: float64\n"
          ]
        }
      ],
      "source": [
        "# Average Rating by Content Rating\n",
        "avg_rating_by_content_rating = data.groupby('cont_rating')['user_rating'].mean()\n",
        "print(\"Average Rating by Content Rating:\\n\", avg_rating_by_content_rating)"
      ]
    },
    {
      "cell_type": "code",
      "execution_count": null,
      "id": "33bbcb16",
      "metadata": {
        "id": "33bbcb16",
        "outputId": "a9325fba-bd2d-459a-a427-16bdcc75ecfd"
      },
      "outputs": [
        {
          "name": "stdout",
          "output_type": "stream",
          "text": [
            "Apps with the Highest Version:\n",
            "                                              track_name         ver\n",
            "3092                                        幻獣契約クリプトラクト      v3.6.9\n",
            "3224       Quick Hit Slots – Casino Slot Machines Games     v2.2.21\n",
            "1133                                             The CW     v2.13.9\n",
            "4121                    Alliance Wars: World Domination      v1.865\n",
            "224                                             iOvilus   iOV 2.1.3\n",
            "3668                                    乐视体育—英超欧冠F1高清直播      V3.7.0\n",
            "4176                  Strawberry Shortcake Candy Garden  Update 1.1\n",
            "4078  Superhero Girl Salon: Kids Makeup and Dressup ...    9999.1.8\n",
            "3916  Ice Queen Prom Salon: Princess Makeover Girls ...    9999.1.6\n",
            "4957  Magic Princess - Girls Makeup & Dressup Salon ...    9999.1.3\n"
          ]
        }
      ],
      "source": [
        "# Apps with the Highest Version (string comparison)\n",
        "highest_version_apps = data.sort_values('ver', ascending=False).head(10)[['track_name', 'ver']]\n",
        "print(\"Apps with the Highest Version:\\n\", highest_version_apps)\n",
        "\n"
      ]
    },
    {
      "cell_type": "code",
      "execution_count": null,
      "id": "4eefdd4c",
      "metadata": {
        "colab": {
          "base_uri": "https://localhost:8080/",
          "height": 193
        },
        "id": "4eefdd4c",
        "outputId": "acb73e92-aa00-410c-86ee-d5bf80b8ad67"
      },
      "outputs": [
        {
          "output_type": "error",
          "ename": "SyntaxError",
          "evalue": "invalid syntax (<ipython-input-1-f9eb0e62a22d>, line 1)",
          "traceback": [
            "\u001b[0;36m  File \u001b[0;32m\"<ipython-input-1-f9eb0e62a22d>\"\u001b[0;36m, line \u001b[0;32m1\u001b[0m\n\u001b[0;31m    https://nbviewer.jupyter.org\u001b[0m\n\u001b[0m          ^\u001b[0m\n\u001b[0;31mSyntaxError\u001b[0m\u001b[0;31m:\u001b[0m invalid syntax\n"
          ]
        }
      ],
      "source": [
        "https://nbviewer.jupyter.org"
      ]
    }
  ],
  "metadata": {
    "kernelspec": {
      "display_name": "Python 3 (ipykernel)",
      "language": "python",
      "name": "python3"
    },
    "language_info": {
      "codemirror_mode": {
        "name": "ipython",
        "version": 3
      },
      "file_extension": ".py",
      "mimetype": "text/x-python",
      "name": "python",
      "nbconvert_exporter": "python",
      "pygments_lexer": "ipython3",
      "version": "3.9.13"
    },
    "colab": {
      "provenance": []
    }
  },
  "nbformat": 4,
  "nbformat_minor": 5
}